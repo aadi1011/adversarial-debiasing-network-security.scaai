{
  "nbformat": 4,
  "nbformat_minor": 0,
  "metadata": {
    "colab": {
      "provenance": []
    },
    "kernelspec": {
      "name": "python3",
      "display_name": "Python 3"
    },
    "language_info": {
      "name": "python"
    }
  },
  "cells": [
    {
      "cell_type": "code",
      "execution_count": null,
      "metadata": {
        "id": "zL8QuDfwDeTT"
      },
      "outputs": [],
      "source": [
        "import pandas as pd\n",
        "import numpy as np\n",
        "from sklearn.preprocessing import MinMaxScaler, LabelEncoder\n",
        "from tensorflow.keras.models import Sequential, Model\n",
        "from tensorflow.keras.layers import Dense, LeakyReLU, BatchNormalization, Input\n",
        "from tensorflow.keras.optimizers import Adam"
      ]
    },
    {
      "cell_type": "code",
      "source": [
        "# Load the dataset (assuming the CSV file is in the same directory)\n",
        "file_path = '/content/Friday-WorkingHours-Afternoon-DDos.pcap_ISCX.csv'\n",
        "df = pd.read_csv(file_path)"
      ],
      "metadata": {
        "id": "KiqUqWuODmRX"
      },
      "execution_count": null,
      "outputs": []
    },
    {
      "cell_type": "code",
      "source": [
        "# Print column names to debug\n",
        "print(\"Original columns:\", df.columns.tolist())"
      ],
      "metadata": {
        "colab": {
          "base_uri": "https://localhost:8080/"
        },
        "id": "civFsnpWEJsn",
        "outputId": "3fba2022-ad6c-4ada-c67e-3c15c2f4afd5"
      },
      "execution_count": null,
      "outputs": [
        {
          "output_type": "stream",
          "name": "stdout",
          "text": [
            "Original columns: ['Flow ID', ' Source IP', ' Source Port', ' Destination IP', ' Destination Port', ' Protocol', ' Timestamp', ' Flow Duration', ' Total Fwd Packets', ' Total Backward Packets', 'Total Length of Fwd Packets', ' Total Length of Bwd Packets', ' Fwd Packet Length Max', ' Fwd Packet Length Min', ' Fwd Packet Length Mean', ' Fwd Packet Length Std', 'Bwd Packet Length Max', ' Bwd Packet Length Min', ' Bwd Packet Length Mean', ' Bwd Packet Length Std', 'Flow Bytes/s', ' Flow Packets/s', ' Flow IAT Mean', ' Flow IAT Std', ' Flow IAT Max', ' Flow IAT Min', 'Fwd IAT Total', ' Fwd IAT Mean', ' Fwd IAT Std', ' Fwd IAT Max', ' Fwd IAT Min', 'Bwd IAT Total', ' Bwd IAT Mean', ' Bwd IAT Std', ' Bwd IAT Max', ' Bwd IAT Min', 'Fwd PSH Flags', ' Bwd PSH Flags', ' Fwd URG Flags', ' Bwd URG Flags', ' Fwd Header Length', ' Bwd Header Length', 'Fwd Packets/s', ' Bwd Packets/s', ' Min Packet Length', ' Max Packet Length', ' Packet Length Mean', ' Packet Length Std', ' Packet Length Variance', 'FIN Flag Count', ' SYN Flag Count', ' RST Flag Count', ' PSH Flag Count', ' ACK Flag Count', ' URG Flag Count', ' CWE Flag Count', ' ECE Flag Count', ' Down/Up Ratio', ' Average Packet Size', ' Avg Fwd Segment Size', ' Avg Bwd Segment Size', ' Fwd Header Length.1', 'Fwd Avg Bytes/Bulk', ' Fwd Avg Packets/Bulk', ' Fwd Avg Bulk Rate', ' Bwd Avg Bytes/Bulk', ' Bwd Avg Packets/Bulk', 'Bwd Avg Bulk Rate', 'Subflow Fwd Packets', ' Subflow Fwd Bytes', ' Subflow Bwd Packets', ' Subflow Bwd Bytes', 'Init_Win_bytes_forward', ' Init_Win_bytes_backward', ' act_data_pkt_fwd', ' min_seg_size_forward', 'Active Mean', ' Active Std', ' Active Max', ' Active Min', 'Idle Mean', ' Idle Std', ' Idle Max', ' Idle Min', ' Label']\n"
          ]
        }
      ]
    },
    {
      "cell_type": "code",
      "source": [
        "# Identify categorical columns and convert them to numeric values\n",
        "categorical_columns = df.select_dtypes(include=['object']).columns\n",
        "label_encoders = {}\n",
        "for col in categorical_columns:\n",
        "    le = LabelEncoder()\n",
        "    df[col] = le.fit_transform(df[col])\n",
        "    label_encoders[col] = le"
      ],
      "metadata": {
        "id": "U0ieov1PEPif"
      },
      "execution_count": null,
      "outputs": []
    },
    {
      "cell_type": "code",
      "source": [
        "# List of columns to drop\n",
        "columns_to_drop = [\"Flow ID\", \" Source IP\", \" Source Port\", \" Destination IP\", \" Destination Port\", \" Protocol\", \" Timestamp\"]"
      ],
      "metadata": {
        "id": "BGGcOvulEYRw"
      },
      "execution_count": null,
      "outputs": []
    },
    {
      "cell_type": "code",
      "source": [
        "# Print column names after dropping to debug\n",
        "print(\"Columns before dropping:\", df.columns.tolist())"
      ],
      "metadata": {
        "colab": {
          "base_uri": "https://localhost:8080/"
        },
        "id": "F-hCua7vEcpV",
        "outputId": "01cc249d-675a-42ea-edc3-e507d3fe902b"
      },
      "execution_count": null,
      "outputs": [
        {
          "output_type": "stream",
          "name": "stdout",
          "text": [
            "Columns before dropping: ['Flow ID', ' Source IP', ' Source Port', ' Destination IP', ' Destination Port', ' Protocol', ' Timestamp', ' Flow Duration', ' Total Fwd Packets', ' Total Backward Packets', 'Total Length of Fwd Packets', ' Total Length of Bwd Packets', ' Fwd Packet Length Max', ' Fwd Packet Length Min', ' Fwd Packet Length Mean', ' Fwd Packet Length Std', 'Bwd Packet Length Max', ' Bwd Packet Length Min', ' Bwd Packet Length Mean', ' Bwd Packet Length Std', 'Flow Bytes/s', ' Flow Packets/s', ' Flow IAT Mean', ' Flow IAT Std', ' Flow IAT Max', ' Flow IAT Min', 'Fwd IAT Total', ' Fwd IAT Mean', ' Fwd IAT Std', ' Fwd IAT Max', ' Fwd IAT Min', 'Bwd IAT Total', ' Bwd IAT Mean', ' Bwd IAT Std', ' Bwd IAT Max', ' Bwd IAT Min', 'Fwd PSH Flags', ' Bwd PSH Flags', ' Fwd URG Flags', ' Bwd URG Flags', ' Fwd Header Length', ' Bwd Header Length', 'Fwd Packets/s', ' Bwd Packets/s', ' Min Packet Length', ' Max Packet Length', ' Packet Length Mean', ' Packet Length Std', ' Packet Length Variance', 'FIN Flag Count', ' SYN Flag Count', ' RST Flag Count', ' PSH Flag Count', ' ACK Flag Count', ' URG Flag Count', ' CWE Flag Count', ' ECE Flag Count', ' Down/Up Ratio', ' Average Packet Size', ' Avg Fwd Segment Size', ' Avg Bwd Segment Size', ' Fwd Header Length.1', 'Fwd Avg Bytes/Bulk', ' Fwd Avg Packets/Bulk', ' Fwd Avg Bulk Rate', ' Bwd Avg Bytes/Bulk', ' Bwd Avg Packets/Bulk', 'Bwd Avg Bulk Rate', 'Subflow Fwd Packets', ' Subflow Fwd Bytes', ' Subflow Bwd Packets', ' Subflow Bwd Bytes', 'Init_Win_bytes_forward', ' Init_Win_bytes_backward', ' act_data_pkt_fwd', ' min_seg_size_forward', 'Active Mean', ' Active Std', ' Active Max', ' Active Min', 'Idle Mean', ' Idle Std', ' Idle Max', ' Idle Min', ' Label']\n"
          ]
        }
      ]
    },
    {
      "cell_type": "code",
      "source": [
        "# Drop unnecessary columns\n",
        "df.drop(columns_to_drop, axis=1, inplace=True, errors='ignore')"
      ],
      "metadata": {
        "id": "qPxYn_PwEg1F"
      },
      "execution_count": null,
      "outputs": []
    },
    {
      "cell_type": "code",
      "source": [
        "# Print column names after dropping to debug\n",
        "print(\"Columns after dropping:\", df.columns.tolist())\n"
      ],
      "metadata": {
        "colab": {
          "base_uri": "https://localhost:8080/"
        },
        "id": "kAyz2ieaEoAe",
        "outputId": "7123f5f1-9954-4cf2-f667-eb0c82c08146"
      },
      "execution_count": null,
      "outputs": [
        {
          "output_type": "stream",
          "name": "stdout",
          "text": [
            "Columns after dropping: [' Flow Duration', ' Total Fwd Packets', ' Total Backward Packets', 'Total Length of Fwd Packets', ' Total Length of Bwd Packets', ' Fwd Packet Length Max', ' Fwd Packet Length Min', ' Fwd Packet Length Mean', ' Fwd Packet Length Std', 'Bwd Packet Length Max', ' Bwd Packet Length Min', ' Bwd Packet Length Mean', ' Bwd Packet Length Std', 'Flow Bytes/s', ' Flow Packets/s', ' Flow IAT Mean', ' Flow IAT Std', ' Flow IAT Max', ' Flow IAT Min', 'Fwd IAT Total', ' Fwd IAT Mean', ' Fwd IAT Std', ' Fwd IAT Max', ' Fwd IAT Min', 'Bwd IAT Total', ' Bwd IAT Mean', ' Bwd IAT Std', ' Bwd IAT Max', ' Bwd IAT Min', 'Fwd PSH Flags', ' Bwd PSH Flags', ' Fwd URG Flags', ' Bwd URG Flags', ' Fwd Header Length', ' Bwd Header Length', 'Fwd Packets/s', ' Bwd Packets/s', ' Min Packet Length', ' Max Packet Length', ' Packet Length Mean', ' Packet Length Std', ' Packet Length Variance', 'FIN Flag Count', ' SYN Flag Count', ' RST Flag Count', ' PSH Flag Count', ' ACK Flag Count', ' URG Flag Count', ' CWE Flag Count', ' ECE Flag Count', ' Down/Up Ratio', ' Average Packet Size', ' Avg Fwd Segment Size', ' Avg Bwd Segment Size', ' Fwd Header Length.1', 'Fwd Avg Bytes/Bulk', ' Fwd Avg Packets/Bulk', ' Fwd Avg Bulk Rate', ' Bwd Avg Bytes/Bulk', ' Bwd Avg Packets/Bulk', 'Bwd Avg Bulk Rate', 'Subflow Fwd Packets', ' Subflow Fwd Bytes', ' Subflow Bwd Packets', ' Subflow Bwd Bytes', 'Init_Win_bytes_forward', ' Init_Win_bytes_backward', ' act_data_pkt_fwd', ' min_seg_size_forward', 'Active Mean', ' Active Std', ' Active Max', ' Active Min', 'Idle Mean', ' Idle Std', ' Idle Max', ' Idle Min', ' Label']\n"
          ]
        }
      ]
    },
    {
      "cell_type": "code",
      "source": [
        "# Check for and handle NaN or infinity values\n",
        "df.replace([np.inf, -np.inf], np.nan, inplace=True)  # Replace inf with NaN\n",
        "df.dropna(inplace=True)  # Drop rows with NaN values\n"
      ],
      "metadata": {
        "id": "4ylfEOacEuaS"
      },
      "execution_count": null,
      "outputs": []
    },
    {
      "cell_type": "code",
      "source": [
        "# Normalize the data\n",
        "scaler = MinMaxScaler()\n",
        "data = scaler.fit_transform(df)"
      ],
      "metadata": {
        "id": "zF-BtJN7E42M"
      },
      "execution_count": null,
      "outputs": []
    },
    {
      "cell_type": "code",
      "source": [
        "# GAN Parameters\n",
        "latent_dim = 100\n",
        "adam = Adam(learning_rate=0.0002, beta_1=0.5)"
      ],
      "metadata": {
        "id": "ELNpzzPME8hb"
      },
      "execution_count": null,
      "outputs": []
    },
    {
      "cell_type": "code",
      "source": [
        "# Generator Model\n",
        "def build_generator():\n",
        "    model = Sequential()\n",
        "    model.add(Dense(128, input_dim=latent_dim))\n",
        "    model.add(LeakyReLU(alpha=0.2))\n",
        "    model.add(BatchNormalization(momentum=0.8))\n",
        "    model.add(Dense(256))\n",
        "    model.add(LeakyReLU(alpha=0.2))\n",
        "    model.add(BatchNormalization(momentum=0.8))\n",
        "    model.add(Dense(512))\n",
        "    model.add(LeakyReLU(alpha=0.2))\n",
        "    model.add(BatchNormalization(momentum=0.8))\n",
        "    model.add(Dense(df.shape[1], activation='tanh'))\n",
        "    return model"
      ],
      "metadata": {
        "id": "o5xldXOEFAaG"
      },
      "execution_count": null,
      "outputs": []
    },
    {
      "cell_type": "code",
      "source": [
        "# Discriminator Model\n",
        "def build_discriminator():\n",
        "    model = Sequential()\n",
        "    model.add(Dense(512, input_dim=df.shape[1]))\n",
        "    model.add(LeakyReLU(alpha=0.2))\n",
        "    model.add(Dense(256))\n",
        "    model.add(LeakyReLU(alpha=0.2))\n",
        "    model.add(Dense(1, activation='sigmoid'))\n",
        "    return model"
      ],
      "metadata": {
        "id": "fEGXtw8JFD9v"
      },
      "execution_count": null,
      "outputs": []
    },
    {
      "cell_type": "code",
      "source": [
        "# Building and compiling the models\n",
        "generator = build_generator()\n",
        "discriminator = build_discriminator()\n",
        "discriminator.compile(loss='binary_crossentropy', optimizer=adam, metrics=['accuracy'])"
      ],
      "metadata": {
        "colab": {
          "base_uri": "https://localhost:8080/"
        },
        "id": "5mKxk441FHLV",
        "outputId": "575a4f5b-f4db-425b-99ce-9ebfa573781e"
      },
      "execution_count": null,
      "outputs": [
        {
          "output_type": "stream",
          "name": "stderr",
          "text": [
            "/usr/local/lib/python3.10/dist-packages/keras/src/layers/core/dense.py:87: UserWarning: Do not pass an `input_shape`/`input_dim` argument to a layer. When using Sequential models, prefer using an `Input(shape)` object as the first layer in the model instead.\n",
            "  super().__init__(activity_regularizer=activity_regularizer, **kwargs)\n",
            "/usr/local/lib/python3.10/dist-packages/keras/src/layers/activations/leaky_relu.py:41: UserWarning: Argument `alpha` is deprecated. Use `negative_slope` instead.\n",
            "  warnings.warn(\n"
          ]
        }
      ]
    },
    {
      "cell_type": "code",
      "source": [
        "# Combine the models to create the GAN\n",
        "z = Input(shape=(latent_dim,))\n",
        "generated_data = generator(z)\n",
        "discriminator.trainable = False\n",
        "validity = discriminator(generated_data)\n",
        "combined = Model(z, validity)\n",
        "combined.compile(loss='binary_crossentropy', optimizer=adam)"
      ],
      "metadata": {
        "id": "4DxTPi2NFKVx"
      },
      "execution_count": null,
      "outputs": []
    },
    {
      "cell_type": "code",
      "source": [
        "# Training the GAN\n",
        "def train_gan(epochs, batch_size=64, save_interval=1000):\n",
        "    half_batch = int(batch_size / 2)\n",
        "\n",
        "    for epoch in range(epochs):\n",
        "        # Train Discriminator\n",
        "        idx = np.random.randint(0, data.shape[0], half_batch)\n",
        "        real_data = data[idx]\n",
        "        noise = np.random.normal(0, 1, (half_batch, latent_dim))\n",
        "        generated_data = generator.predict(noise)\n",
        "\n",
        "        d_loss_real = discriminator.train_on_batch(real_data, np.ones((half_batch, 1)))\n",
        "        d_loss_fake = discriminator.train_on_batch(generated_data, np.zeros((half_batch, 1)))\n",
        "        d_loss = 0.5 * np.add(d_loss_real, d_loss_fake)\n",
        "\n",
        "        # Train Generator\n",
        "        noise = np.random.normal(0, 1, (batch_size, latent_dim))\n",
        "        valid_y = np.array([1] * batch_size)\n",
        "        g_loss = combined.train_on_batch(noise, valid_y)\n",
        "\n",
        "        # Print the progress\n",
        "        print(f\"{epoch + 1}/{epochs} [D loss: {d_loss[0]}, acc.: {100 * d_loss[1]}] [G loss: {g_loss}]\")\n",
        "\n",
        "        # Save the generated data at save intervals\n",
        "        if (epoch + 1) % save_interval == 0:\n",
        "            save_generated_data(epoch + 1)"
      ],
      "metadata": {
        "id": "9fhpkucfFM-A"
      },
      "execution_count": null,
      "outputs": []
    },
    {
      "cell_type": "code",
      "source": [
        "def save_generated_data(epoch):\n",
        "    noise = np.random.normal(0, 1, (1000, latent_dim))\n",
        "    generated_data = generator.predict(noise)\n",
        "    generated_data = scaler.inverse_transform(generated_data)\n",
        "\n",
        "    # Create a DataFrame with the original structure\n",
        "    df_generated = pd.DataFrame(generated_data, columns=df.columns)\n",
        "\n",
        "    # Convert numeric columns back to categorical if needed\n",
        "    for col in categorical_columns:\n",
        "        if col in df_generated.columns:\n",
        "            df_generated[col] = label_encoders[col].inverse_transform(df_generated[col].astype(int))\n",
        "\n",
        "    # Add the dropped columns back with empty values\n",
        "    for col in columns_to_drop:\n",
        "        if col not in df_generated.columns:\n",
        "            df_generated[col] = \"\"\n",
        "\n",
        "    # Reorder columns to match the original CSV\n",
        "    df_generated = df_generated[columns_to_drop + df.columns.tolist()]\n",
        "\n",
        "    # Save to CSV\n",
        "    df_generated.to_csv(f'generated_packets_epoch_{epoch}.csv', index=False)\n",
        "    print(f\"Generated data saved as generated_packets_epoch_{epoch}.csv\")"
      ],
      "metadata": {
        "id": "bq-ESlE0FWYC"
      },
      "execution_count": null,
      "outputs": []
    },
    {
      "cell_type": "code",
      "source": [
        "# Train the GAN\n",
        "train_gan(epochs=10, batch_size=64, save_interval=10)"
      ],
      "metadata": {
        "colab": {
          "base_uri": "https://localhost:8080/"
        },
        "id": "Kwwtj3HkFa3P",
        "outputId": "28c874e0-fd30-436e-cbe9-83af57dfb644"
      },
      "execution_count": null,
      "outputs": [
        {
          "output_type": "stream",
          "name": "stdout",
          "text": [
            "\u001b[1m1/1\u001b[0m \u001b[32m━━━━━━━━━━━━━━━━━━━━\u001b[0m\u001b[37m\u001b[0m \u001b[1m0s\u001b[0m 27ms/step\n"
          ]
        },
        {
          "output_type": "stream",
          "name": "stderr",
          "text": [
            "WARNING:tensorflow:5 out of the last 5 calls to <function TensorFlowTrainer.make_train_function.<locals>.one_step_on_iterator at 0x7d2b8f6c05e0> triggered tf.function retracing. Tracing is expensive and the excessive number of tracings could be due to (1) creating @tf.function repeatedly in a loop, (2) passing tensors with different shapes, (3) passing Python objects instead of tensors. For (1), please define your @tf.function outside of the loop. For (2), @tf.function has reduce_retracing=True option that can avoid unnecessary retracing. For (3), please refer to https://www.tensorflow.org/guide/function#controlling_retracing and https://www.tensorflow.org/api_docs/python/tf/function for  more details.\n",
            "WARNING:tensorflow:6 out of the last 6 calls to <function TensorFlowTrainer.make_train_function.<locals>.one_step_on_iterator at 0x7d2b8f6c3250> triggered tf.function retracing. Tracing is expensive and the excessive number of tracings could be due to (1) creating @tf.function repeatedly in a loop, (2) passing tensors with different shapes, (3) passing Python objects instead of tensors. For (1), please define your @tf.function outside of the loop. For (2), @tf.function has reduce_retracing=True option that can avoid unnecessary retracing. For (3), please refer to https://www.tensorflow.org/guide/function#controlling_retracing and https://www.tensorflow.org/api_docs/python/tf/function for  more details.\n"
          ]
        },
        {
          "output_type": "stream",
          "name": "stdout",
          "text": [
            "1/10 [D loss: 0.7010886669158936, acc.: 39.84375] [G loss: [array(0.6943585, dtype=float32), array(0.6943585, dtype=float32), array(0.453125, dtype=float32)]]\n",
            "\u001b[1m1/1\u001b[0m \u001b[32m━━━━━━━━━━━━━━━━━━━━\u001b[0m\u001b[37m\u001b[0m \u001b[1m0s\u001b[0m 21ms/step\n",
            "2/10 [D loss: 0.7004319429397583, acc.: 39.73958492279053] [G loss: [array(0.6953133, dtype=float32), array(0.6953133, dtype=float32), array(0.43229166, dtype=float32)]]\n",
            "\u001b[1m1/1\u001b[0m \u001b[32m━━━━━━━━━━━━━━━━━━━━\u001b[0m\u001b[37m\u001b[0m \u001b[1m0s\u001b[0m 21ms/step\n",
            "3/10 [D loss: 0.6990883350372314, acc.: 40.0390625] [G loss: [array(0.69605273, dtype=float32), array(0.69605273, dtype=float32), array(0.42578125, dtype=float32)]]\n",
            "\u001b[1m1/1\u001b[0m \u001b[32m━━━━━━━━━━━━━━━━━━━━\u001b[0m\u001b[37m\u001b[0m \u001b[1m0s\u001b[0m 21ms/step\n",
            "4/10 [D loss: 0.6960464715957642, acc.: 40.833333134651184] [G loss: [array(0.691939, dtype=float32), array(0.691939, dtype=float32), array(0.43125, dtype=float32)]]\n",
            "\u001b[1m1/1\u001b[0m \u001b[32m━━━━━━━━━━━━━━━━━━━━\u001b[0m\u001b[37m\u001b[0m \u001b[1m0s\u001b[0m 19ms/step\n",
            "5/10 [D loss: 0.6930409669876099, acc.: 41.48911237716675] [G loss: [array(0.68996304, dtype=float32), array(0.68996304, dtype=float32), array(0.43489584, dtype=float32)]]\n",
            "\u001b[1m1/1\u001b[0m \u001b[32m━━━━━━━━━━━━━━━━━━━━\u001b[0m\u001b[37m\u001b[0m \u001b[1m0s\u001b[0m 19ms/step\n",
            "6/10 [D loss: 0.69145667552948, acc.: 42.31627583503723] [G loss: [array(0.68923634, dtype=float32), array(0.68923634, dtype=float32), array(0.43526787, dtype=float32)]]\n",
            "\u001b[1m1/1\u001b[0m \u001b[32m━━━━━━━━━━━━━━━━━━━━\u001b[0m\u001b[37m\u001b[0m \u001b[1m0s\u001b[0m 22ms/step\n",
            "7/10 [D loss: 0.6909229159355164, acc.: 42.09635257720947] [G loss: [array(0.6888504, dtype=float32), array(0.6888504, dtype=float32), array(0.43359375, dtype=float32)]]\n",
            "\u001b[1m1/1\u001b[0m \u001b[32m━━━━━━━━━━━━━━━━━━━━\u001b[0m\u001b[37m\u001b[0m \u001b[1m0s\u001b[0m 20ms/step\n",
            "8/10 [D loss: 0.6901461482048035, acc.: 42.207926511764526] [G loss: [array(0.68878996, dtype=float32), array(0.68878996, dtype=float32), array(0.43055555, dtype=float32)]]\n",
            "\u001b[1m1/1\u001b[0m \u001b[32m━━━━━━━━━━━━━━━━━━━━\u001b[0m\u001b[37m\u001b[0m \u001b[1m0s\u001b[0m 20ms/step\n",
            "9/10 [D loss: 0.6899322271347046, acc.: 41.72697365283966] [G loss: [array(0.68830436, dtype=float32), array(0.68830436, dtype=float32), array(0.425, dtype=float32)]]\n",
            "\u001b[1m1/1\u001b[0m \u001b[32m━━━━━━━━━━━━━━━━━━━━\u001b[0m\u001b[37m\u001b[0m \u001b[1m0s\u001b[0m 23ms/step\n",
            "10/10 [D loss: 0.689530611038208, acc.: 41.477274894714355] [G loss: [array(0.6885218, dtype=float32), array(0.6885218, dtype=float32), array(0.42329547, dtype=float32)]]\n",
            "\u001b[1m32/32\u001b[0m \u001b[32m━━━━━━━━━━━━━━━━━━━━\u001b[0m\u001b[37m\u001b[0m \u001b[1m0s\u001b[0m 6ms/step\n",
            "Generated data saved as generated_packets_epoch_10.csv\n"
          ]
        }
      ]
    },
    {
      "cell_type": "code",
      "source": [
        "import os\n",
        "print(os.getcwd())\n"
      ],
      "metadata": {
        "colab": {
          "base_uri": "https://localhost:8080/"
        },
        "id": "6iwCNrc4FhCg",
        "outputId": "af4e7196-193c-408f-83c8-1dc5324294b3"
      },
      "execution_count": null,
      "outputs": [
        {
          "output_type": "stream",
          "name": "stdout",
          "text": [
            "/content\n"
          ]
        }
      ]
    },
    {
      "cell_type": "code",
      "source": [
        "import pandas as pd\n",
        "\n",
        "# Specify the file path where the generated CSV file is saved\n",
        "file_path = 'generated_packets_epoch_10.csv'\n",
        "\n",
        "# Load the CSV file into a DataFrame\n",
        "df_generated = pd.read_csv(file_path)\n",
        "\n",
        "# Display the first few rows of the DataFrame to verify the content\n",
        "print(df_generated.head())\n"
      ],
      "metadata": {
        "colab": {
          "base_uri": "https://localhost:8080/"
        },
        "id": "RrXegbe-HnRQ",
        "outputId": "f99ac66f-5bc5-4eeb-f173-a8e7c04d95e8"
      },
      "execution_count": null,
      "outputs": [
        {
          "output_type": "stream",
          "name": "stdout",
          "text": [
            "   Flow ID   Source IP   Source Port   Destination IP   Destination Port  \\\n",
            "0      NaN         NaN           NaN              NaN                NaN   \n",
            "1      NaN         NaN           NaN              NaN                NaN   \n",
            "2      NaN         NaN           NaN              NaN                NaN   \n",
            "3      NaN         NaN           NaN              NaN                NaN   \n",
            "4      NaN         NaN           NaN              NaN                NaN   \n",
            "\n",
            "    Protocol   Timestamp   Flow Duration   Total Fwd Packets  \\\n",
            "0        NaN         NaN     107550080.0          -34.835968   \n",
            "1        NaN         NaN      83891060.0         1855.373200   \n",
            "2        NaN         NaN    -103060610.0         1437.748800   \n",
            "3        NaN         NaN     110572984.0         -731.353100   \n",
            "4        NaN         NaN      96437300.0         1830.190200   \n",
            "\n",
            "    Total Backward Packets  ...   min_seg_size_forward  Active Mean  \\\n",
            "0               2901.94730  ...               8.773498   36407708.0   \n",
            "1               -533.20210  ...              26.905855   75602250.0   \n",
            "2               2200.92430  ...              41.506690   15379761.0   \n",
            "3               2734.17300  ...               8.643828   84018700.0   \n",
            "4                230.54149  ...              36.517582   53226900.0   \n",
            "\n",
            "    Active Std   Active Max   Active Min    Idle Mean    Idle Std  \\\n",
            "0   -2806160.0  -68511656.0  -88092824.0   59533696.0   3818709.5   \n",
            "1   24222086.0   31640724.0  -85166240.0   63693500.0  12062141.0   \n",
            "2   -6530707.0   85501800.0   45639470.0   68166456.0 -49687988.0   \n",
            "3   -9444299.0  -38994670.0  -88311080.0  101486150.0 -58592764.0   \n",
            "4  -13120152.0   91087110.0   82634344.0   70880030.0  61042250.0   \n",
            "\n",
            "      Idle Max     Idle Min   Label  \n",
            "0   38884024.0  -44095330.0  BENIGN  \n",
            "1 -118351490.0  -65104052.0  BENIGN  \n",
            "2   94852456.0  107411960.0  BENIGN  \n",
            "3  -24883042.0   70941960.0  BENIGN  \n",
            "4   90152630.0   10315224.0  BENIGN  \n",
            "\n",
            "[5 rows x 85 columns]\n"
          ]
        }
      ]
    },
    {
      "cell_type": "code",
      "source": [],
      "metadata": {
        "id": "EIZh4ruzIy3Q"
      },
      "execution_count": null,
      "outputs": []
    }
  ]
}