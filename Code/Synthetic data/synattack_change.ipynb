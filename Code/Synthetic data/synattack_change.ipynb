{
  "nbformat": 4,
  "nbformat_minor": 0,
  "metadata": {
    "colab": {
      "provenance": []
    },
    "kernelspec": {
      "name": "python3",
      "display_name": "Python 3"
    },
    "language_info": {
      "name": "python"
    }
  },
  "cells": [
    {
      "cell_type": "code",
      "execution_count": null,
      "metadata": {
        "id": "n9X_leEqJ05s"
      },
      "outputs": [],
      "source": [
        "import pandas as pd\n",
        "import numpy as np\n",
        "from sklearn.preprocessing import MinMaxScaler, LabelEncoder\n",
        "from tensorflow.keras.models import Sequential, Model\n",
        "from tensorflow.keras.layers import Dense, LeakyReLU, BatchNormalization, Input\n",
        "from tensorflow.keras.optimizers import Adam"
      ]
    },
    {
      "cell_type": "code",
      "source": [
        "# Load the dataset (assuming the CSV file is in the same directory)\n",
        "file_path = '/content/Friday-WorkingHours-Afternoon-DDos.pcap_ISCX.csv'\n",
        "df = pd.read_csv(file_path)"
      ],
      "metadata": {
        "id": "bjRTCNJsJ6fb"
      },
      "execution_count": null,
      "outputs": []
    },
    {
      "cell_type": "code",
      "source": [
        "# Print column names to debug\n",
        "print(\"Original columns:\", df.columns.tolist())"
      ],
      "metadata": {
        "colab": {
          "base_uri": "https://localhost:8080/"
        },
        "id": "9dhipSqQKEkN",
        "outputId": "d0c7a463-e87b-4929-e08e-42f984618962"
      },
      "execution_count": null,
      "outputs": [
        {
          "output_type": "stream",
          "name": "stdout",
          "text": [
            "Original columns: ['Flow ID', ' Source IP', ' Source Port', ' Destination IP', ' Destination Port', ' Protocol', ' Timestamp', ' Flow Duration', ' Total Fwd Packets', ' Total Backward Packets', 'Total Length of Fwd Packets', ' Total Length of Bwd Packets', ' Fwd Packet Length Max', ' Fwd Packet Length Min', ' Fwd Packet Length Mean', ' Fwd Packet Length Std', 'Bwd Packet Length Max', ' Bwd Packet Length Min', ' Bwd Packet Length Mean', ' Bwd Packet Length Std', 'Flow Bytes/s', ' Flow Packets/s', ' Flow IAT Mean', ' Flow IAT Std', ' Flow IAT Max', ' Flow IAT Min', 'Fwd IAT Total', ' Fwd IAT Mean', ' Fwd IAT Std', ' Fwd IAT Max', ' Fwd IAT Min', 'Bwd IAT Total', ' Bwd IAT Mean', ' Bwd IAT Std', ' Bwd IAT Max', ' Bwd IAT Min', 'Fwd PSH Flags', ' Bwd PSH Flags', ' Fwd URG Flags', ' Bwd URG Flags', ' Fwd Header Length', ' Bwd Header Length', 'Fwd Packets/s', ' Bwd Packets/s', ' Min Packet Length', ' Max Packet Length', ' Packet Length Mean', ' Packet Length Std', ' Packet Length Variance', 'FIN Flag Count', ' SYN Flag Count', ' RST Flag Count', ' PSH Flag Count', ' ACK Flag Count', ' URG Flag Count', ' CWE Flag Count', ' ECE Flag Count', ' Down/Up Ratio', ' Average Packet Size', ' Avg Fwd Segment Size', ' Avg Bwd Segment Size', ' Fwd Header Length.1', 'Fwd Avg Bytes/Bulk', ' Fwd Avg Packets/Bulk', ' Fwd Avg Bulk Rate', ' Bwd Avg Bytes/Bulk', ' Bwd Avg Packets/Bulk', 'Bwd Avg Bulk Rate', 'Subflow Fwd Packets', ' Subflow Fwd Bytes', ' Subflow Bwd Packets', ' Subflow Bwd Bytes', 'Init_Win_bytes_forward', ' Init_Win_bytes_backward', ' act_data_pkt_fwd', ' min_seg_size_forward', 'Active Mean', ' Active Std', ' Active Max', ' Active Min', 'Idle Mean', ' Idle Std', ' Idle Max', ' Idle Min', ' Label']\n"
          ]
        }
      ]
    },
    {
      "cell_type": "code",
      "source": [
        "# Identify categorical columns and convert them to numeric values\n",
        "categorical_columns = df.select_dtypes(include=['object']).columns\n",
        "label_encoders = {}\n",
        "for col in categorical_columns:\n",
        "    le = LabelEncoder()\n",
        "    df[col] = le.fit_transform(df[col])\n",
        "    label_encoders[col] = le"
      ],
      "metadata": {
        "id": "vfLpk5gPKQ7q"
      },
      "execution_count": null,
      "outputs": []
    },
    {
      "cell_type": "code",
      "source": [
        "# List of columns to drop\n",
        "columns_to_drop = [\"Flow ID\", \" Source IP\", \" Source Port\", \" Destination IP\", \" Destination Port\", \" Protocol\", \" Timestamp\"]"
      ],
      "metadata": {
        "id": "CoAcTlQgKRkY"
      },
      "execution_count": null,
      "outputs": []
    },
    {
      "cell_type": "code",
      "source": [
        "# Print column names after dropping to debug\n",
        "print(\"Columns before dropping:\", df.columns.tolist())"
      ],
      "metadata": {
        "colab": {
          "base_uri": "https://localhost:8080/"
        },
        "id": "NckNeswWKd7H",
        "outputId": "e89cba51-67a6-4ca6-ca50-705714360c7b"
      },
      "execution_count": null,
      "outputs": [
        {
          "output_type": "stream",
          "name": "stdout",
          "text": [
            "Columns before dropping: ['Flow ID', ' Source IP', ' Source Port', ' Destination IP', ' Destination Port', ' Protocol', ' Timestamp', ' Flow Duration', ' Total Fwd Packets', ' Total Backward Packets', 'Total Length of Fwd Packets', ' Total Length of Bwd Packets', ' Fwd Packet Length Max', ' Fwd Packet Length Min', ' Fwd Packet Length Mean', ' Fwd Packet Length Std', 'Bwd Packet Length Max', ' Bwd Packet Length Min', ' Bwd Packet Length Mean', ' Bwd Packet Length Std', 'Flow Bytes/s', ' Flow Packets/s', ' Flow IAT Mean', ' Flow IAT Std', ' Flow IAT Max', ' Flow IAT Min', 'Fwd IAT Total', ' Fwd IAT Mean', ' Fwd IAT Std', ' Fwd IAT Max', ' Fwd IAT Min', 'Bwd IAT Total', ' Bwd IAT Mean', ' Bwd IAT Std', ' Bwd IAT Max', ' Bwd IAT Min', 'Fwd PSH Flags', ' Bwd PSH Flags', ' Fwd URG Flags', ' Bwd URG Flags', ' Fwd Header Length', ' Bwd Header Length', 'Fwd Packets/s', ' Bwd Packets/s', ' Min Packet Length', ' Max Packet Length', ' Packet Length Mean', ' Packet Length Std', ' Packet Length Variance', 'FIN Flag Count', ' SYN Flag Count', ' RST Flag Count', ' PSH Flag Count', ' ACK Flag Count', ' URG Flag Count', ' CWE Flag Count', ' ECE Flag Count', ' Down/Up Ratio', ' Average Packet Size', ' Avg Fwd Segment Size', ' Avg Bwd Segment Size', ' Fwd Header Length.1', 'Fwd Avg Bytes/Bulk', ' Fwd Avg Packets/Bulk', ' Fwd Avg Bulk Rate', ' Bwd Avg Bytes/Bulk', ' Bwd Avg Packets/Bulk', 'Bwd Avg Bulk Rate', 'Subflow Fwd Packets', ' Subflow Fwd Bytes', ' Subflow Bwd Packets', ' Subflow Bwd Bytes', 'Init_Win_bytes_forward', ' Init_Win_bytes_backward', ' act_data_pkt_fwd', ' min_seg_size_forward', 'Active Mean', ' Active Std', ' Active Max', ' Active Min', 'Idle Mean', ' Idle Std', ' Idle Max', ' Idle Min', ' Label']\n"
          ]
        }
      ]
    },
    {
      "cell_type": "code",
      "source": [
        "# Drop unnecessary columns\n",
        "df.drop(columns_to_drop, axis=1, inplace=True, errors='ignore')"
      ],
      "metadata": {
        "id": "uWeFIQX4Ke3W"
      },
      "execution_count": null,
      "outputs": []
    },
    {
      "cell_type": "code",
      "source": [
        "# Print column names after dropping to debug\n",
        "print(\"Columns after dropping:\", df.columns.tolist())"
      ],
      "metadata": {
        "colab": {
          "base_uri": "https://localhost:8080/"
        },
        "id": "ypIhN0IRKhPP",
        "outputId": "dc68b70e-d7b3-439c-e3b7-1d37d0190475"
      },
      "execution_count": null,
      "outputs": [
        {
          "output_type": "stream",
          "name": "stdout",
          "text": [
            "Columns after dropping: [' Flow Duration', ' Total Fwd Packets', ' Total Backward Packets', 'Total Length of Fwd Packets', ' Total Length of Bwd Packets', ' Fwd Packet Length Max', ' Fwd Packet Length Min', ' Fwd Packet Length Mean', ' Fwd Packet Length Std', 'Bwd Packet Length Max', ' Bwd Packet Length Min', ' Bwd Packet Length Mean', ' Bwd Packet Length Std', 'Flow Bytes/s', ' Flow Packets/s', ' Flow IAT Mean', ' Flow IAT Std', ' Flow IAT Max', ' Flow IAT Min', 'Fwd IAT Total', ' Fwd IAT Mean', ' Fwd IAT Std', ' Fwd IAT Max', ' Fwd IAT Min', 'Bwd IAT Total', ' Bwd IAT Mean', ' Bwd IAT Std', ' Bwd IAT Max', ' Bwd IAT Min', 'Fwd PSH Flags', ' Bwd PSH Flags', ' Fwd URG Flags', ' Bwd URG Flags', ' Fwd Header Length', ' Bwd Header Length', 'Fwd Packets/s', ' Bwd Packets/s', ' Min Packet Length', ' Max Packet Length', ' Packet Length Mean', ' Packet Length Std', ' Packet Length Variance', 'FIN Flag Count', ' SYN Flag Count', ' RST Flag Count', ' PSH Flag Count', ' ACK Flag Count', ' URG Flag Count', ' CWE Flag Count', ' ECE Flag Count', ' Down/Up Ratio', ' Average Packet Size', ' Avg Fwd Segment Size', ' Avg Bwd Segment Size', ' Fwd Header Length.1', 'Fwd Avg Bytes/Bulk', ' Fwd Avg Packets/Bulk', ' Fwd Avg Bulk Rate', ' Bwd Avg Bytes/Bulk', ' Bwd Avg Packets/Bulk', 'Bwd Avg Bulk Rate', 'Subflow Fwd Packets', ' Subflow Fwd Bytes', ' Subflow Bwd Packets', ' Subflow Bwd Bytes', 'Init_Win_bytes_forward', ' Init_Win_bytes_backward', ' act_data_pkt_fwd', ' min_seg_size_forward', 'Active Mean', ' Active Std', ' Active Max', ' Active Min', 'Idle Mean', ' Idle Std', ' Idle Max', ' Idle Min', ' Label']\n"
          ]
        }
      ]
    },
    {
      "cell_type": "code",
      "source": [
        "# Check for and handle NaN or infinity values\n",
        "df.replace([np.inf, -np.inf], np.nan, inplace=True)  # Replace inf with NaN\n",
        "df.dropna(inplace=True)  # Drop rows with NaN values"
      ],
      "metadata": {
        "id": "w-PXptzhKjsT"
      },
      "execution_count": null,
      "outputs": []
    },
    {
      "cell_type": "code",
      "source": [
        "# Normalize the data\n",
        "scaler = MinMaxScaler()\n",
        "data = scaler.fit_transform(df)"
      ],
      "metadata": {
        "id": "QZrYVBiaKnEG"
      },
      "execution_count": null,
      "outputs": []
    },
    {
      "cell_type": "code",
      "source": [
        "# GAN Parameters\n",
        "latent_dim = 100\n",
        "adam = Adam(learning_rate=0.0002, beta_1=0.5)"
      ],
      "metadata": {
        "id": "ZVVUu0oPKpc0"
      },
      "execution_count": null,
      "outputs": []
    },
    {
      "cell_type": "code",
      "source": [
        "def build_generator():\n",
        "    model = Sequential()\n",
        "    model.add(Dense(256, input_dim=latent_dim))\n",
        "    model.add(LeakyReLU(alpha=0.2))\n",
        "    model.add(BatchNormalization(momentum=0.8))\n",
        "    model.add(Dense(512))\n",
        "    model.add(LeakyReLU(alpha=0.2))\n",
        "    model.add(BatchNormalization(momentum=0.8))\n",
        "    model.add(Dense(1024))\n",
        "    model.add(LeakyReLU(alpha=0.2))\n",
        "    model.add(BatchNormalization(momentum=0.8))\n",
        "    model.add(Dense(df.shape[1], activation='tanh'))\n",
        "    return model"
      ],
      "metadata": {
        "id": "ZhnK6mWKK2YX"
      },
      "execution_count": null,
      "outputs": []
    },
    {
      "cell_type": "code",
      "source": [
        "def build_discriminator():\n",
        "    model = Sequential()\n",
        "    model.add(Dense(1024, input_dim=df.shape[1]))\n",
        "    model.add(LeakyReLU(alpha=0.2))\n",
        "    model.add(Dense(512))\n",
        "    model.add(LeakyReLU(alpha=0.2))\n",
        "    model.add(Dense(256))\n",
        "    model.add(LeakyReLU(alpha=0.2))\n",
        "    model.add(Dense(1, activation='sigmoid'))\n",
        "    return model"
      ],
      "metadata": {
        "id": "krp-NbQqK3IU"
      },
      "execution_count": null,
      "outputs": []
    },
    {
      "cell_type": "code",
      "source": [
        "# Building and compiling the models\n",
        "generator = build_generator()\n",
        "discriminator = build_discriminator()\n",
        "discriminator.compile(loss='binary_crossentropy', optimizer=adam, metrics=['accuracy'])"
      ],
      "metadata": {
        "colab": {
          "base_uri": "https://localhost:8080/"
        },
        "id": "5mKxk441FHLV",
        "outputId": "1fe3c2a2-4729-4420-83d0-6d5c4c78f9fa"
      },
      "execution_count": null,
      "outputs": [
        {
          "output_type": "stream",
          "name": "stderr",
          "text": [
            "/usr/local/lib/python3.10/dist-packages/keras/src/layers/core/dense.py:87: UserWarning: Do not pass an `input_shape`/`input_dim` argument to a layer. When using Sequential models, prefer using an `Input(shape)` object as the first layer in the model instead.\n",
            "  super().__init__(activity_regularizer=activity_regularizer, **kwargs)\n",
            "/usr/local/lib/python3.10/dist-packages/keras/src/layers/activations/leaky_relu.py:41: UserWarning: Argument `alpha` is deprecated. Use `negative_slope` instead.\n",
            "  warnings.warn(\n"
          ]
        }
      ]
    },
    {
      "cell_type": "code",
      "source": [
        "# Combine the models to create the GAN\n",
        "z = Input(shape=(latent_dim,))\n",
        "generated_data = generator(z)\n",
        "discriminator.trainable = False\n",
        "validity = discriminator(generated_data)\n",
        "combined = Model(z, validity)\n",
        "combined.compile(loss='binary_crossentropy', optimizer=adam)"
      ],
      "metadata": {
        "id": "ChN5j5ywLS61"
      },
      "execution_count": null,
      "outputs": []
    },
    {
      "cell_type": "code",
      "source": [
        "# Training the GAN\n",
        "def train_gan(epochs, batch_size=64, save_interval=1000):\n",
        "    half_batch = int(batch_size / 2)\n",
        "\n",
        "    for epoch in range(epochs):\n",
        "        # Train Discriminator\n",
        "        idx = np.random.randint(0, data.shape[0], half_batch)\n",
        "        real_data = data[idx]\n",
        "        noise = np.random.normal(0, 1, (half_batch, latent_dim))\n",
        "        generated_data = generator.predict(noise)\n",
        "\n",
        "        d_loss_real = discriminator.train_on_batch(real_data, np.ones((half_batch, 1)))\n",
        "        d_loss_fake = discriminator.train_on_batch(generated_data, np.zeros((half_batch, 1)))\n",
        "        d_loss = 0.5 * np.add(d_loss_real, d_loss_fake)\n",
        "\n",
        "        # Train Generator\n",
        "        noise = np.random.normal(0, 1, (batch_size, latent_dim))\n",
        "        valid_y = np.array([1] * batch_size)\n",
        "        g_loss = combined.train_on_batch(noise, valid_y)\n",
        "\n",
        "        # Print the progress\n",
        "        print(f\"{epoch + 1}/{epochs} [D loss: {d_loss[0]}, acc.: {100 * d_loss[1]}] [G loss: {g_loss}]\")\n",
        "\n",
        "        # Save the generated data at save intervals\n",
        "        if (epoch + 1) % save_interval == 0:\n",
        "            save_generated_data(epoch + 1)"
      ],
      "metadata": {
        "id": "UEZ7F-krLXvV"
      },
      "execution_count": null,
      "outputs": []
    },
    {
      "cell_type": "code",
      "source": [
        "def save_generated_data(epoch):\n",
        "    noise = np.random.normal(0, 1, (1000, latent_dim))\n",
        "    generated_data = generator.predict(noise)\n",
        "    generated_data = scaler.inverse_transform(generated_data)\n",
        "\n",
        "    # Create a DataFrame with the original structure\n",
        "    df_generated = pd.DataFrame(generated_data, columns=df.columns)\n",
        "\n",
        "    # Convert numeric columns back to categorical if needed\n",
        "    for col in categorical_columns:\n",
        "        if col in df_generated.columns:\n",
        "            df_generated[col] = label_encoders[col].inverse_transform(df_generated[col].astype(int))\n",
        "\n",
        "    # Add the dropped columns back with empty values\n",
        "    for col in columns_to_drop:\n",
        "        if col not in df_generated.columns:\n",
        "            df_generated[col] = \"\"\n",
        "\n",
        "    # Reorder columns to match the original CSV\n",
        "    df_generated = df_generated[columns_to_drop + df.columns.tolist()]\n",
        "\n",
        "    # Save to CSV\n",
        "    df_generated.to_csv(f'generated_packets_epoch_{epoch}.csv', index=False)\n",
        "    print(f\"Generated data saved as generated_packets_epoch_{epoch}.csv\")"
      ],
      "metadata": {
        "id": "pzG-s85BLa5p"
      },
      "execution_count": null,
      "outputs": []
    },
    {
      "cell_type": "code",
      "source": [
        "# Train the GAN\n",
        "train_gan(epochs=10, batch_size=64, save_interval=10)"
      ],
      "metadata": {
        "colab": {
          "base_uri": "https://localhost:8080/"
        },
        "id": "5x4IQgokLfI8",
        "outputId": "acc4afe1-b491-4f12-9f80-6d31f92882b8"
      },
      "execution_count": null,
      "outputs": [
        {
          "output_type": "stream",
          "name": "stdout",
          "text": [
            "\u001b[1m1/1\u001b[0m \u001b[32m━━━━━━━━━━━━━━━━━━━━\u001b[0m\u001b[37m\u001b[0m \u001b[1m0s\u001b[0m 375ms/step\n"
          ]
        },
        {
          "output_type": "stream",
          "name": "stderr",
          "text": [
            "/usr/local/lib/python3.10/dist-packages/keras/src/backend/tensorflow/trainer.py:75: UserWarning: The model does not have any trainable weights.\n",
            "  warnings.warn(\"The model does not have any trainable weights.\")\n"
          ]
        },
        {
          "output_type": "stream",
          "name": "stdout",
          "text": [
            "1/10 [D loss: 0.6912065744400024, acc.: 65.625] [G loss: [array(0.69064087, dtype=float32), array(0.69064087, dtype=float32), array(0.625, dtype=float32)]]\n",
            "\u001b[1m1/1\u001b[0m \u001b[32m━━━━━━━━━━━━━━━━━━━━\u001b[0m\u001b[37m\u001b[0m \u001b[1m0s\u001b[0m 37ms/step\n"
          ]
        },
        {
          "output_type": "stream",
          "name": "stderr",
          "text": [
            "WARNING:tensorflow:5 out of the last 5 calls to <function TensorFlowTrainer.make_train_function.<locals>.one_step_on_iterator at 0x7d409377e290> triggered tf.function retracing. Tracing is expensive and the excessive number of tracings could be due to (1) creating @tf.function repeatedly in a loop, (2) passing tensors with different shapes, (3) passing Python objects instead of tensors. For (1), please define your @tf.function outside of the loop. For (2), @tf.function has reduce_retracing=True option that can avoid unnecessary retracing. For (3), please refer to https://www.tensorflow.org/guide/function#controlling_retracing and https://www.tensorflow.org/api_docs/python/tf/function for  more details.\n",
            "WARNING:tensorflow:6 out of the last 6 calls to <function TensorFlowTrainer.make_train_function.<locals>.one_step_on_iterator at 0x7d4095e517e0> triggered tf.function retracing. Tracing is expensive and the excessive number of tracings could be due to (1) creating @tf.function repeatedly in a loop, (2) passing tensors with different shapes, (3) passing Python objects instead of tensors. For (1), please define your @tf.function outside of the loop. For (2), @tf.function has reduce_retracing=True option that can avoid unnecessary retracing. For (3), please refer to https://www.tensorflow.org/guide/function#controlling_retracing and https://www.tensorflow.org/api_docs/python/tf/function for  more details.\n"
          ]
        },
        {
          "output_type": "stream",
          "name": "stdout",
          "text": [
            "2/10 [D loss: 0.6938214302062988, acc.: 53.25521230697632] [G loss: [array(0.6958473, dtype=float32), array(0.6958473, dtype=float32), array(0.4921875, dtype=float32)]]\n",
            "\u001b[1m1/1\u001b[0m \u001b[32m━━━━━━━━━━━━━━━━━━━━\u001b[0m\u001b[37m\u001b[0m \u001b[1m0s\u001b[0m 39ms/step\n",
            "3/10 [D loss: 0.697439968585968, acc.: 46.25000059604645] [G loss: [array(0.6991051, dtype=float32), array(0.6991051, dtype=float32), array(0.4375, dtype=float32)]]\n",
            "\u001b[1m1/1\u001b[0m \u001b[32m━━━━━━━━━━━━━━━━━━━━\u001b[0m\u001b[37m\u001b[0m \u001b[1m0s\u001b[0m 24ms/step\n",
            "4/10 [D loss: 0.7009832859039307, acc.: 43.10826063156128] [G loss: [array(0.7032947, dtype=float32), array(0.7032947, dtype=float32), array(0.40234375, dtype=float32)]]\n",
            "\u001b[1m1/1\u001b[0m \u001b[32m━━━━━━━━━━━━━━━━━━━━\u001b[0m\u001b[37m\u001b[0m \u001b[1m0s\u001b[0m 22ms/step\n",
            "5/10 [D loss: 0.7046542167663574, acc.: 39.39236104488373] [G loss: [array(0.70658153, dtype=float32), array(0.70658153, dtype=float32), array(0.378125, dtype=float32)]]\n",
            "\u001b[1m1/1\u001b[0m \u001b[32m━━━━━━━━━━━━━━━━━━━━\u001b[0m\u001b[37m\u001b[0m \u001b[1m0s\u001b[0m 21ms/step\n",
            "6/10 [D loss: 0.7072598338127136, acc.: 39.58333134651184] [G loss: [array(0.7093728, dtype=float32), array(0.7093728, dtype=float32), array(0.38541666, dtype=float32)]]\n",
            "\u001b[1m1/1\u001b[0m \u001b[32m━━━━━━━━━━━━━━━━━━━━\u001b[0m\u001b[37m\u001b[0m \u001b[1m0s\u001b[0m 20ms/step\n",
            "7/10 [D loss: 0.7102804780006409, acc.: 38.5817289352417] [G loss: [array(0.7121824, dtype=float32), array(0.7121824, dtype=float32), array(0.375, dtype=float32)]]\n",
            "\u001b[1m1/1\u001b[0m \u001b[32m━━━━━━━━━━━━━━━━━━━━\u001b[0m\u001b[37m\u001b[0m \u001b[1m0s\u001b[0m 20ms/step\n",
            "8/10 [D loss: 0.7121853828430176, acc.: 38.53515684604645] [G loss: [array(0.7135358, dtype=float32), array(0.7135358, dtype=float32), array(0.37695312, dtype=float32)]]\n",
            "\u001b[1m1/1\u001b[0m \u001b[32m━━━━━━━━━━━━━━━━━━━━\u001b[0m\u001b[37m\u001b[0m \u001b[1m0s\u001b[0m 27ms/step\n",
            "9/10 [D loss: 0.7136149406433105, acc.: 38.33231329917908] [G loss: [array(0.71498984, dtype=float32), array(0.71498984, dtype=float32), array(0.3732639, dtype=float32)]]\n",
            "\u001b[1m1/1\u001b[0m \u001b[32m━━━━━━━━━━━━━━━━━━━━\u001b[0m\u001b[37m\u001b[0m \u001b[1m0s\u001b[0m 20ms/step\n",
            "10/10 [D loss: 0.715549111366272, acc.: 37.52055764198303] [G loss: [array(0.7170463, dtype=float32), array(0.7170463, dtype=float32), array(0.3671875, dtype=float32)]]\n",
            "\u001b[1m32/32\u001b[0m \u001b[32m━━━━━━━━━━━━━━━━━━━━\u001b[0m\u001b[37m\u001b[0m \u001b[1m0s\u001b[0m 7ms/step\n",
            "Generated data saved as generated_packets_epoch_10.csv\n"
          ]
        }
      ]
    },
    {
      "cell_type": "code",
      "source": [
        "# Specify the file path where the generated CSV file is saved\n",
        "file_path = 'generated_packets_epoch_10.csv'\n",
        "\n",
        "# Load the CSV file into a DataFrame\n",
        "df_generated = pd.read_csv(file_path)\n",
        "\n",
        "# Display the first few rows of the DataFrame to verify the content\n",
        "print(df_generated.head())\n"
      ],
      "metadata": {
        "colab": {
          "base_uri": "https://localhost:8080/"
        },
        "id": "6TpZG5AxLhyV",
        "outputId": "2a06d101-356d-44dc-ce17-93cda4106b9c"
      },
      "execution_count": null,
      "outputs": [
        {
          "output_type": "stream",
          "name": "stdout",
          "text": [
            "   Flow ID   Source IP   Source Port   Destination IP   Destination Port  \\\n",
            "0      NaN         NaN           NaN              NaN                NaN   \n",
            "1      NaN         NaN           NaN              NaN                NaN   \n",
            "2      NaN         NaN           NaN              NaN                NaN   \n",
            "3      NaN         NaN           NaN              NaN                NaN   \n",
            "4      NaN         NaN           NaN              NaN                NaN   \n",
            "\n",
            "    Protocol   Timestamp   Flow Duration   Total Fwd Packets  \\\n",
            "0        NaN         NaN     -49364084.0         -1460.94950   \n",
            "1        NaN         NaN      12907312.0         -1674.70800   \n",
            "2        NaN         NaN      70824536.0         -1784.60460   \n",
            "3        NaN         NaN      22987750.0          -847.30927   \n",
            "4        NaN         NaN      68040296.0          -641.21490   \n",
            "\n",
            "    Total Backward Packets  ...   min_seg_size_forward  Active Mean  \\\n",
            "0               -2435.3533  ...              33.919582  21030858.00   \n",
            "1                1849.0793  ...              31.865929  57478250.00   \n",
            "2               -1255.4019  ...             -36.438644 -12849052.00   \n",
            "3                -656.6447  ...             -31.752182   1036192.56   \n",
            "4                2089.2940  ...             -37.873276 -80804104.00   \n",
            "\n",
            "    Active Std   Active Max   Active Min    Idle Mean    Idle Std    Idle Max  \\\n",
            "0   33312584.0  -93060340.0 -14695829.00  -32120040.0 -18999966.0  77263710.0   \n",
            "1  -37441470.0  -32129404.0  66379530.00 -104998230.0 -41813348.0  79860504.0   \n",
            "2  -14782641.0   51664280.0 -70418890.00   68889590.0  60082024.0 -65939630.0   \n",
            "3   26861978.0   -1236607.4 -84591064.00   19623768.0  44794550.0 -34455030.0   \n",
            "4   21451630.0    4614364.5   -389624.25  -86556510.0 -56134236.0  83457170.0   \n",
            "\n",
            "     Idle Min   Label  \n",
            "0  75598130.0  BENIGN  \n",
            "1   4135121.0  BENIGN  \n",
            "2  75784430.0  BENIGN  \n",
            "3  67377060.0  BENIGN  \n",
            "4  96807780.0  BENIGN  \n",
            "\n",
            "[5 rows x 85 columns]\n"
          ]
        }
      ]
    },
    {
      "cell_type": "markdown",
      "source": [
        "FINAL CHANGE"
      ],
      "metadata": {
        "id": "1Cq6cn70PuQT"
      }
    },
    {
      "cell_type": "markdown",
      "source": [],
      "metadata": {
        "id": "QuLQZr_CPtvh"
      }
    },
    {
      "cell_type": "code",
      "source": [
        "# Load the dataset (assuming the CSV file is in the same directory)\n",
        "file_path = '/content/Friday-WorkingHours-Afternoon-DDos.pcap_ISCX.csv'\n",
        "df = pd.read_csv(file_path)\n",
        "\n",
        "# Print column names to debug\n",
        "print(\"Original columns:\", df.columns.tolist())\n",
        "\n",
        "# Identify categorical columns and convert them to numeric values\n",
        "categorical_columns = df.select_dtypes(include=['object']).columns\n",
        "label_encoders = {}\n",
        "for col in categorical_columns:\n",
        "    le = LabelEncoder()\n",
        "    df[col] = le.fit_transform(df[col])\n",
        "    label_encoders[col] = le\n",
        "\n",
        "# List of columns to drop\n",
        "columns_to_drop = [\"Flow ID\", \" Source IP\", \" Source Port\", \" Destination IP\", \" Destination Port\", \" Protocol\", \" Timestamp\"]\n",
        "\n",
        "# Print column names after dropping to debug\n",
        "print(\"Columns before dropping:\", df.columns.tolist())\n",
        "\n",
        "# Drop unnecessary columns\n",
        "df.drop(columns_to_drop, axis=1, inplace=True, errors='ignore')\n",
        "\n",
        "# Print column names after dropping to debug\n",
        "print(\"Columns after dropping:\", df.columns.tolist())\n",
        "\n",
        "# Check for and handle NaN or infinity values\n",
        "df.replace([np.inf, -np.inf], np.nan, inplace=True)  # Replace inf with NaN\n",
        "df.dropna(inplace=True)  # Drop rows with NaN values\n",
        "\n",
        "# Normalize the data\n",
        "scaler = MinMaxScaler()\n",
        "data = scaler.fit_transform(df)\n",
        "\n",
        "# GAN Parameters\n",
        "latent_dim = 100\n",
        "adam = Adam(learning_rate=0.0002, beta_1=0.5)\n",
        "\n",
        "# Generator Model\n",
        "def build_generator():\n",
        "    model = Sequential()\n",
        "    model.add(Dense(128, input_dim=latent_dim))\n",
        "    model.add(LeakyReLU(alpha=0.2))\n",
        "    model.add(BatchNormalization(momentum=0.8))\n",
        "    model.add(Dense(256))\n",
        "    model.add(LeakyReLU(alpha=0.2))\n",
        "    model.add(BatchNormalization(momentum=0.8))\n",
        "    model.add(Dense(512))\n",
        "    model.add(LeakyReLU(alpha=0.2))\n",
        "    model.add(BatchNormalization(momentum=0.8))\n",
        "    model.add(Dense(df.shape[1], activation='tanh'))\n",
        "    return model\n",
        "\n",
        "# Discriminator Model\n",
        "def build_discriminator():\n",
        "    model = Sequential()\n",
        "    model.add(Dense(512, input_dim=df.shape[1]))\n",
        "    model.add(LeakyReLU(alpha=0.2))\n",
        "    model.add(Dense(256))\n",
        "    model.add(LeakyReLU(alpha=0.2))\n",
        "    model.add(Dense(1, activation='sigmoid'))\n",
        "    return model\n",
        "\n",
        "# Building and compiling the models\n",
        "generator = build_generator()\n",
        "discriminator = build_discriminator()\n",
        "discriminator.compile(loss='binary_crossentropy', optimizer=adam, metrics=['accuracy'])\n",
        "\n",
        "# Combine the models to create the GAN\n",
        "z = Input(shape=(latent_dim,))\n",
        "generated_data = generator(z)\n",
        "discriminator.trainable = False\n",
        "validity = discriminator(generated_data)\n",
        "combined = Model(z, validity)\n",
        "combined.compile(loss='binary_crossentropy', optimizer=adam)\n",
        "\n",
        "# Training the GAN\n",
        "def train_gan(epochs, batch_size=64, save_interval=1000):\n",
        "    half_batch = int(batch_size / 2)\n",
        "\n",
        "    for epoch in range(epochs):\n",
        "        # Train Discriminator\n",
        "        idx = np.random.randint(0, data.shape[0], half_batch)\n",
        "        real_data = data[idx]\n",
        "        noise = np.random.normal(0, 1, (half_batch, latent_dim))\n",
        "        generated_data = generator.predict(noise)\n",
        "\n",
        "        d_loss_real = discriminator.train_on_batch(real_data, np.ones((half_batch, 1)))\n",
        "        d_loss_fake = discriminator.train_on_batch(generated_data, np.zeros((half_batch, 1)))\n",
        "        d_loss = 0.5 * np.add(d_loss_real, d_loss_fake)\n",
        "\n",
        "        # Train Generator\n",
        "        noise = np.random.normal(0, 1, (batch_size, latent_dim))\n",
        "        valid_y = np.array([1] * batch_size)\n",
        "        g_loss = combined.train_on_batch(noise, valid_y)\n",
        "\n",
        "        # Print the progress\n",
        "        print(f\"{epoch + 1}/{epochs} [D loss: {d_loss[0]}, acc.: {100 * d_loss[1]}] [G loss: {g_loss}]\")\n",
        "\n",
        "        # Save the generated data at save intervals\n",
        "        if (epoch + 1) % save_interval == 0:\n",
        "            save_generated_data(epoch + 1)\n",
        "\n",
        "def save_generated_data(epoch):\n",
        "    noise = np.random.normal(0, 1, (1000, latent_dim))\n",
        "    generated_data = generator.predict(noise)\n",
        "    generated_data = scaler.inverse_transform(generated_data)\n",
        "\n",
        "    # Create a DataFrame with the original structure\n",
        "    df_generated = pd.DataFrame(generated_data, columns=df.columns)\n",
        "\n",
        "    # Convert numeric columns back to categorical if needed\n",
        "    for col in categorical_columns:\n",
        "        if col in df_generated.columns:\n",
        "            df_generated[col] = label_encoders[col].inverse_transform(df_generated[col].astype(int))\n",
        "\n",
        "    # Add the dropped columns back with empty values\n",
        "    for col in columns_to_drop:\n",
        "        if col not in df_generated.columns:\n",
        "            df_generated[col] = \"\"\n",
        "\n",
        "    # Reorder columns to match the original CSV\n",
        "    df_generated = df_generated[columns_to_drop + df.columns.tolist()]\n",
        "\n",
        "    # Save to CSV\n",
        "    df_generated.to_csv(f'generated_packets_epoch_{epoch}.csv', index=False)\n",
        "    print(f\"Generated data saved as generated_packets_epoch_{epoch}.csv\")\n",
        "\n",
        "# Train the GAN\n",
        "train_gan(epochs=10, batch_size=64, save_interval=10)\n"
      ],
      "metadata": {
        "colab": {
          "base_uri": "https://localhost:8080/"
        },
        "id": "w2zPzL6jLqQi",
        "outputId": "a3539711-3913-445f-9000-b49c723f405d"
      },
      "execution_count": null,
      "outputs": [
        {
          "output_type": "stream",
          "name": "stdout",
          "text": [
            "Original columns: ['Flow ID', ' Source IP', ' Source Port', ' Destination IP', ' Destination Port', ' Protocol', ' Timestamp', ' Flow Duration', ' Total Fwd Packets', ' Total Backward Packets', 'Total Length of Fwd Packets', ' Total Length of Bwd Packets', ' Fwd Packet Length Max', ' Fwd Packet Length Min', ' Fwd Packet Length Mean', ' Fwd Packet Length Std', 'Bwd Packet Length Max', ' Bwd Packet Length Min', ' Bwd Packet Length Mean', ' Bwd Packet Length Std', 'Flow Bytes/s', ' Flow Packets/s', ' Flow IAT Mean', ' Flow IAT Std', ' Flow IAT Max', ' Flow IAT Min', 'Fwd IAT Total', ' Fwd IAT Mean', ' Fwd IAT Std', ' Fwd IAT Max', ' Fwd IAT Min', 'Bwd IAT Total', ' Bwd IAT Mean', ' Bwd IAT Std', ' Bwd IAT Max', ' Bwd IAT Min', 'Fwd PSH Flags', ' Bwd PSH Flags', ' Fwd URG Flags', ' Bwd URG Flags', ' Fwd Header Length', ' Bwd Header Length', 'Fwd Packets/s', ' Bwd Packets/s', ' Min Packet Length', ' Max Packet Length', ' Packet Length Mean', ' Packet Length Std', ' Packet Length Variance', 'FIN Flag Count', ' SYN Flag Count', ' RST Flag Count', ' PSH Flag Count', ' ACK Flag Count', ' URG Flag Count', ' CWE Flag Count', ' ECE Flag Count', ' Down/Up Ratio', ' Average Packet Size', ' Avg Fwd Segment Size', ' Avg Bwd Segment Size', ' Fwd Header Length.1', 'Fwd Avg Bytes/Bulk', ' Fwd Avg Packets/Bulk', ' Fwd Avg Bulk Rate', ' Bwd Avg Bytes/Bulk', ' Bwd Avg Packets/Bulk', 'Bwd Avg Bulk Rate', 'Subflow Fwd Packets', ' Subflow Fwd Bytes', ' Subflow Bwd Packets', ' Subflow Bwd Bytes', 'Init_Win_bytes_forward', ' Init_Win_bytes_backward', ' act_data_pkt_fwd', ' min_seg_size_forward', 'Active Mean', ' Active Std', ' Active Max', ' Active Min', 'Idle Mean', ' Idle Std', ' Idle Max', ' Idle Min', ' Label']\n",
            "Columns before dropping: ['Flow ID', ' Source IP', ' Source Port', ' Destination IP', ' Destination Port', ' Protocol', ' Timestamp', ' Flow Duration', ' Total Fwd Packets', ' Total Backward Packets', 'Total Length of Fwd Packets', ' Total Length of Bwd Packets', ' Fwd Packet Length Max', ' Fwd Packet Length Min', ' Fwd Packet Length Mean', ' Fwd Packet Length Std', 'Bwd Packet Length Max', ' Bwd Packet Length Min', ' Bwd Packet Length Mean', ' Bwd Packet Length Std', 'Flow Bytes/s', ' Flow Packets/s', ' Flow IAT Mean', ' Flow IAT Std', ' Flow IAT Max', ' Flow IAT Min', 'Fwd IAT Total', ' Fwd IAT Mean', ' Fwd IAT Std', ' Fwd IAT Max', ' Fwd IAT Min', 'Bwd IAT Total', ' Bwd IAT Mean', ' Bwd IAT Std', ' Bwd IAT Max', ' Bwd IAT Min', 'Fwd PSH Flags', ' Bwd PSH Flags', ' Fwd URG Flags', ' Bwd URG Flags', ' Fwd Header Length', ' Bwd Header Length', 'Fwd Packets/s', ' Bwd Packets/s', ' Min Packet Length', ' Max Packet Length', ' Packet Length Mean', ' Packet Length Std', ' Packet Length Variance', 'FIN Flag Count', ' SYN Flag Count', ' RST Flag Count', ' PSH Flag Count', ' ACK Flag Count', ' URG Flag Count', ' CWE Flag Count', ' ECE Flag Count', ' Down/Up Ratio', ' Average Packet Size', ' Avg Fwd Segment Size', ' Avg Bwd Segment Size', ' Fwd Header Length.1', 'Fwd Avg Bytes/Bulk', ' Fwd Avg Packets/Bulk', ' Fwd Avg Bulk Rate', ' Bwd Avg Bytes/Bulk', ' Bwd Avg Packets/Bulk', 'Bwd Avg Bulk Rate', 'Subflow Fwd Packets', ' Subflow Fwd Bytes', ' Subflow Bwd Packets', ' Subflow Bwd Bytes', 'Init_Win_bytes_forward', ' Init_Win_bytes_backward', ' act_data_pkt_fwd', ' min_seg_size_forward', 'Active Mean', ' Active Std', ' Active Max', ' Active Min', 'Idle Mean', ' Idle Std', ' Idle Max', ' Idle Min', ' Label']\n",
            "Columns after dropping: [' Flow Duration', ' Total Fwd Packets', ' Total Backward Packets', 'Total Length of Fwd Packets', ' Total Length of Bwd Packets', ' Fwd Packet Length Max', ' Fwd Packet Length Min', ' Fwd Packet Length Mean', ' Fwd Packet Length Std', 'Bwd Packet Length Max', ' Bwd Packet Length Min', ' Bwd Packet Length Mean', ' Bwd Packet Length Std', 'Flow Bytes/s', ' Flow Packets/s', ' Flow IAT Mean', ' Flow IAT Std', ' Flow IAT Max', ' Flow IAT Min', 'Fwd IAT Total', ' Fwd IAT Mean', ' Fwd IAT Std', ' Fwd IAT Max', ' Fwd IAT Min', 'Bwd IAT Total', ' Bwd IAT Mean', ' Bwd IAT Std', ' Bwd IAT Max', ' Bwd IAT Min', 'Fwd PSH Flags', ' Bwd PSH Flags', ' Fwd URG Flags', ' Bwd URG Flags', ' Fwd Header Length', ' Bwd Header Length', 'Fwd Packets/s', ' Bwd Packets/s', ' Min Packet Length', ' Max Packet Length', ' Packet Length Mean', ' Packet Length Std', ' Packet Length Variance', 'FIN Flag Count', ' SYN Flag Count', ' RST Flag Count', ' PSH Flag Count', ' ACK Flag Count', ' URG Flag Count', ' CWE Flag Count', ' ECE Flag Count', ' Down/Up Ratio', ' Average Packet Size', ' Avg Fwd Segment Size', ' Avg Bwd Segment Size', ' Fwd Header Length.1', 'Fwd Avg Bytes/Bulk', ' Fwd Avg Packets/Bulk', ' Fwd Avg Bulk Rate', ' Bwd Avg Bytes/Bulk', ' Bwd Avg Packets/Bulk', 'Bwd Avg Bulk Rate', 'Subflow Fwd Packets', ' Subflow Fwd Bytes', ' Subflow Bwd Packets', ' Subflow Bwd Bytes', 'Init_Win_bytes_forward', ' Init_Win_bytes_backward', ' act_data_pkt_fwd', ' min_seg_size_forward', 'Active Mean', ' Active Std', ' Active Max', ' Active Min', 'Idle Mean', ' Idle Std', ' Idle Max', ' Idle Min', ' Label']\n"
          ]
        },
        {
          "output_type": "stream",
          "name": "stderr",
          "text": [
            "/usr/local/lib/python3.10/dist-packages/keras/src/layers/core/dense.py:87: UserWarning: Do not pass an `input_shape`/`input_dim` argument to a layer. When using Sequential models, prefer using an `Input(shape)` object as the first layer in the model instead.\n",
            "  super().__init__(activity_regularizer=activity_regularizer, **kwargs)\n",
            "/usr/local/lib/python3.10/dist-packages/keras/src/layers/activations/leaky_relu.py:41: UserWarning: Argument `alpha` is deprecated. Use `negative_slope` instead.\n",
            "  warnings.warn(\n"
          ]
        },
        {
          "output_type": "stream",
          "name": "stdout",
          "text": [
            "\u001b[1m1/1\u001b[0m \u001b[32m━━━━━━━━━━━━━━━━━━━━\u001b[0m\u001b[37m\u001b[0m \u001b[1m0s\u001b[0m 124ms/step\n"
          ]
        },
        {
          "output_type": "stream",
          "name": "stderr",
          "text": [
            "/usr/local/lib/python3.10/dist-packages/keras/src/backend/tensorflow/trainer.py:75: UserWarning: The model does not have any trainable weights.\n",
            "  warnings.warn(\"The model does not have any trainable weights.\")\n"
          ]
        },
        {
          "output_type": "stream",
          "name": "stdout",
          "text": [
            "1/10 [D loss: 0.6733845472335815, acc.: 68.75] [G loss: [array(0.70181674, dtype=float32), array(0.70181674, dtype=float32), array(0.46875, dtype=float32)]]\n",
            "\u001b[1m1/1\u001b[0m \u001b[32m━━━━━━━━━━━━━━━━━━━━\u001b[0m\u001b[37m\u001b[0m \u001b[1m0s\u001b[0m 19ms/step\n",
            "2/10 [D loss: 0.6877057552337646, acc.: 56.90103769302368] [G loss: [array(0.6975975, dtype=float32), array(0.6975975, dtype=float32), array(0.4921875, dtype=float32)]]\n",
            "\u001b[1m1/1\u001b[0m \u001b[32m━━━━━━━━━━━━━━━━━━━━\u001b[0m\u001b[37m\u001b[0m \u001b[1m0s\u001b[0m 21ms/step\n",
            "3/10 [D loss: 0.6903358697891235, acc.: 54.374998807907104] [G loss: [array(0.6956478, dtype=float32), array(0.6956478, dtype=float32), array(0.5, dtype=float32)]]\n",
            "\u001b[1m1/1\u001b[0m \u001b[32m━━━━━━━━━━━━━━━━━━━━\u001b[0m\u001b[37m\u001b[0m \u001b[1m0s\u001b[0m 21ms/step\n",
            "4/10 [D loss: 0.6920543909072876, acc.: 53.54352593421936] [G loss: [array(0.6975575, dtype=float32), array(0.6975575, dtype=float32), array(0.50390625, dtype=float32)]]\n",
            "\u001b[1m1/1\u001b[0m \u001b[32m━━━━━━━━━━━━━━━━━━━━\u001b[0m\u001b[37m\u001b[0m \u001b[1m0s\u001b[0m 21ms/step\n",
            "5/10 [D loss: 0.6947168111801147, acc.: 52.916669845581055] [G loss: [array(0.6991458, dtype=float32), array(0.6991458, dtype=float32), array(0.50625, dtype=float32)]]\n",
            "\u001b[1m1/1\u001b[0m \u001b[32m━━━━━━━━━━━━━━━━━━━━\u001b[0m\u001b[37m\u001b[0m \u001b[1m0s\u001b[0m 24ms/step\n",
            "6/10 [D loss: 0.6977263689041138, acc.: 52.663350105285645] [G loss: [array(0.70167565, dtype=float32), array(0.70167565, dtype=float32), array(0.5078125, dtype=float32)]]\n",
            "\u001b[1m1/1\u001b[0m \u001b[32m━━━━━━━━━━━━━━━━━━━━\u001b[0m\u001b[37m\u001b[0m \u001b[1m0s\u001b[0m 22ms/step\n",
            "7/10 [D loss: 0.6995066404342651, acc.: 52.95329689979553] [G loss: [array(0.70272094, dtype=float32), array(0.70272094, dtype=float32), array(0.51339287, dtype=float32)]]\n",
            "\u001b[1m1/1\u001b[0m \u001b[32m━━━━━━━━━━━━━━━━━━━━\u001b[0m\u001b[37m\u001b[0m \u001b[1m0s\u001b[0m 24ms/step\n",
            "8/10 [D loss: 0.7021742463111877, acc.: 52.87109613418579] [G loss: [array(0.7065642, dtype=float32), array(0.7065642, dtype=float32), array(0.5136719, dtype=float32)]]\n",
            "\u001b[1m1/1\u001b[0m \u001b[32m━━━━━━━━━━━━━━━━━━━━\u001b[0m\u001b[37m\u001b[0m \u001b[1m0s\u001b[0m 22ms/step\n",
            "9/10 [D loss: 0.7059307098388672, acc.: 53.06882858276367] [G loss: [array(0.70920587, dtype=float32), array(0.70920587, dtype=float32), array(0.5190972, dtype=float32)]]\n",
            "\u001b[1m1/1\u001b[0m \u001b[32m━━━━━━━━━━━━━━━━━━━━\u001b[0m\u001b[37m\u001b[0m \u001b[1m0s\u001b[0m 35ms/step\n",
            "10/10 [D loss: 0.7092413306236267, acc.: 53.23601961135864] [G loss: [array(0.71285564, dtype=float32), array(0.71285564, dtype=float32), array(0.5203125, dtype=float32)]]\n",
            "\u001b[1m32/32\u001b[0m \u001b[32m━━━━━━━━━━━━━━━━━━━━\u001b[0m\u001b[37m\u001b[0m \u001b[1m0s\u001b[0m 11ms/step\n",
            "Generated data saved as generated_packets_epoch_10.csv\n"
          ]
        }
      ]
    },
    {
      "cell_type": "code",
      "source": [
        "# Specify the file path where the generated CSV file is saved\n",
        "file_path = 'generated_packets_epoch_10.csv'\n",
        "\n",
        "# Load the CSV file into a DataFrame\n",
        "df_generated = pd.read_csv(file_path)\n",
        "\n",
        "# Display the first few rows of the DataFrame to verify the content\n",
        "print(df_generated.head())"
      ],
      "metadata": {
        "colab": {
          "base_uri": "https://localhost:8080/"
        },
        "id": "eQNrXSTDObbv",
        "outputId": "7cf3817f-fcdd-46d2-b94e-902c60ac868a"
      },
      "execution_count": null,
      "outputs": [
        {
          "output_type": "stream",
          "name": "stdout",
          "text": [
            "   Flow ID   Source IP   Source Port   Destination IP   Destination Port  \\\n",
            "0      NaN         NaN           NaN              NaN                NaN   \n",
            "1      NaN         NaN           NaN              NaN                NaN   \n",
            "2      NaN         NaN           NaN              NaN                NaN   \n",
            "3      NaN         NaN           NaN              NaN                NaN   \n",
            "4      NaN         NaN           NaN              NaN                NaN   \n",
            "\n",
            "    Protocol   Timestamp   Flow Duration   Total Fwd Packets  \\\n",
            "0        NaN         NaN    -101779270.0          1383.78980   \n",
            "1        NaN         NaN     117542360.0           616.71540   \n",
            "2        NaN         NaN     117064570.0           511.20728   \n",
            "3        NaN         NaN     -81121940.0          -449.81730   \n",
            "4        NaN         NaN     113891140.0           358.02966   \n",
            "\n",
            "    Total Backward Packets  ...   min_seg_size_forward  Active Mean  \\\n",
            "0              -2025.64720  ...              -1.138221  -31341248.0   \n",
            "1              -2730.49300  ...              48.077885   78548270.0   \n",
            "2               2388.85100  ...             -44.435050  -86591980.0   \n",
            "3              -1364.38100  ...              41.479950  -68750024.0   \n",
            "4                911.13806  ...              -5.880162   48930664.0   \n",
            "\n",
            "    Active Std   Active Max   Active Min    Idle Mean    Idle Std    Idle Max  \\\n",
            "0   21817276.0  -38689364.0   -8212322.5   50767184.0  31665298.0  27109228.0   \n",
            "1  -33277238.0   79082136.0   88888980.0  -92618540.0  27149688.0  76520536.0   \n",
            "2   36682244.0  -28063712.0   -1493701.9  102768540.0 -23551602.0  31489360.0   \n",
            "3    4404197.5  -14483264.0  -65534860.0 -109539780.0 -57328630.0 -73141736.0   \n",
            "4  -22920522.0  -38255660.0   60542132.0 -108254296.0  61145532.0  81880820.0   \n",
            "\n",
            "      Idle Min   Label  \n",
            "0  -66909136.0  BENIGN  \n",
            "1 -118622540.0  BENIGN  \n",
            "2  -37876612.0  BENIGN  \n",
            "3 -102478580.0  BENIGN  \n",
            "4   86393670.0  BENIGN  \n",
            "\n",
            "[5 rows x 85 columns]\n"
          ]
        }
      ]
    },
    {
      "cell_type": "code",
      "source": [
        "import pandas as pd\n",
        "import numpy as np\n",
        "import tensorflow as tf\n",
        "from sklearn.preprocessing import MinMaxScaler, LabelEncoder\n",
        "from tensorflow.keras.models import Sequential, Model\n",
        "from tensorflow.keras.layers import Dense, LeakyReLU, BatchNormalization, Input\n",
        "from tensorflow.keras.optimizers import Adam\n",
        "\n",
        "# Load the dataset\n",
        "file_path = '/content/Friday-WorkingHours-Afternoon-DDos.pcap_ISCX2.csv'\n",
        "df = pd.read_csv(file_path)\n",
        "\n",
        "# Identify categorical columns and convert them to numeric values\n",
        "categorical_columns = df.select_dtypes(include=['object']).columns\n",
        "label_encoders = {}\n",
        "for col in categorical_columns:\n",
        "    le = LabelEncoder()\n",
        "    df[col] = le.fit_transform(df[col])\n",
        "    label_encoders[col] = le\n",
        "\n",
        "# Drop unnecessary columns\n",
        "columns_to_drop = [\"Flow ID\", \" Source IP\", \" Source Port\", \" Destination IP\", \" Destination Port\", \" Protocol\", \" Timestamp\"]\n",
        "df.drop(columns_to_drop, axis=1, inplace=True, errors='ignore')\n",
        "\n",
        "# Replace infinity with NaN and drop missing values\n",
        "df.replace([np.inf, -np.inf], np.nan, inplace=True)\n",
        "df.dropna(inplace=True)\n",
        "\n",
        "# Normalize the data\n",
        "scaler = MinMaxScaler()\n",
        "data = scaler.fit_transform(df)\n",
        "\n",
        "# GAN parameters\n",
        "latent_dim = 100\n",
        "adam = Adam(learning_rate=0.0002, beta_1=0.5)\n",
        "\n",
        "# Generator model\n",
        "def build_generator():\n",
        "    input_layer = Input(shape=(latent_dim,))\n",
        "    x = Dense(128)(input_layer)\n",
        "    x = LeakyReLU(negative_slope=0.2)(x)\n",
        "    x = BatchNormalization(momentum=0.8)(x)\n",
        "    x = Dense(256)(x)\n",
        "    x = LeakyReLU(negative_slope=0.2)(x)\n",
        "    x = BatchNormalization(momentum=0.8)(x)\n",
        "    x = Dense(512)(x)\n",
        "    x = LeakyReLU(negative_slope=0.2)(x)\n",
        "    x = BatchNormalization(momentum=0.8)(x)\n",
        "    output_layer = Dense(df.shape[1], activation='tanh')(x)\n",
        "    return Model(input_layer, output_layer)\n",
        "\n",
        "# Discriminator model\n",
        "def build_discriminator():\n",
        "    input_layer = Input(shape=(df.shape[1],))\n",
        "    x = Dense(512)(input_layer)\n",
        "    x = LeakyReLU(negative_slope=0.2)(x)\n",
        "    x = Dense(256)(x)\n",
        "    x = LeakyReLU(negative_slope=0.2)(x)\n",
        "    output_layer = Dense(1, activation='sigmoid')(x)\n",
        "    return Model(input_layer, output_layer)\n",
        "\n",
        "\n",
        "# Instantiate and compile models\n",
        "generator = build_generator()\n",
        "discriminator = build_discriminator()\n",
        "discriminator.compile(loss='binary_crossentropy', optimizer=adam, metrics=['accuracy'])\n",
        "\n",
        "# Build combined model\n",
        "z = Input(shape=(latent_dim,))\n",
        "generated_data = generator(z)\n",
        "discriminator.trainable = False\n",
        "validity = discriminator(generated_data)\n",
        "combined = Model(z, validity)\n",
        "combined.compile(loss='binary_crossentropy', optimizer=adam)\n",
        "\n",
        "def train_gan(epochs, batch_size=64, save_interval=10):\n",
        "    half_batch = int(batch_size / 2)\n",
        "\n",
        "    for epoch in range(epochs):\n",
        "        # Train Discriminator\n",
        "        idx = np.random.randint(0, data.shape[0], half_batch)\n",
        "        real_data = tf.convert_to_tensor(data[idx], dtype=tf.float32)\n",
        "        noise = tf.random.normal((half_batch, latent_dim))\n",
        "        generated_data = generator(noise, training=False)\n",
        "\n",
        "        d_loss_real = discriminator.train_on_batch(real_data, tf.ones((half_batch, 1)))\n",
        "        d_loss_fake = discriminator.train_on_batch(generated_data, tf.zeros((half_batch, 1)))\n",
        "        d_loss = 0.5 * np.add(d_loss_real, d_loss_fake)\n",
        "\n",
        "        # Train Generator\n",
        "        noise = tf.random.normal((batch_size, latent_dim))\n",
        "        valid_y = tf.ones((batch_size, 1))\n",
        "        g_loss = combined.train_on_batch(noise, valid_y)\n",
        "\n",
        "        # Corrected print statement\n",
        "        if isinstance(g_loss, list):\n",
        "            g_loss_value = g_loss[0]\n",
        "        else:\n",
        "            g_loss_value = g_loss\n",
        "\n",
        "        print(f\"{epoch + 1}/{epochs} [D loss: {d_loss[0]:.4f}, acc.: {100 * d_loss[1]:.2f}] [G loss: {g_loss_value:.4f}]\")\n",
        "\n",
        "        if (epoch + 1) % save_interval == 0:\n",
        "            save_generated_data(epoch + 1)\n",
        "\n",
        "\n",
        "\n",
        "def save_generated_data(epoch):\n",
        "    noise = tf.random.normal((1000, latent_dim))\n",
        "    generated_data = generator.predict(noise)\n",
        "    generated_data = scaler.inverse_transform(generated_data)\n",
        "    df_generated = pd.DataFrame(generated_data, columns=df.columns)\n",
        "\n",
        "    for col in categorical_columns:\n",
        "        if col in df_generated.columns:\n",
        "            df_generated[col] = label_encoders[col].inverse_transform(df_generated[col].astype(int))\n",
        "\n",
        "    for col in columns_to_drop:\n",
        "        if col not in df_generated.columns:\n",
        "            df_generated[col] = \"\"\n",
        "\n",
        "    df_generated = df_generated[columns_to_drop + df.columns.tolist()]\n",
        "    df_generated.to_csv(f'generated_packets_epoch_{epoch}.csv', index=False)\n",
        "    print(f\"Generated data saved as generated_packets_epoch_{epoch}.csv\")\n",
        "\n",
        "# Train the GAN\n",
        "train_gan(epochs=10, batch_size=64, save_interval=10)\n"
      ],
      "metadata": {
        "colab": {
          "base_uri": "https://localhost:8080/"
        },
        "id": "WuiMYl4vNC8l",
        "outputId": "07378fab-0be2-4a17-d023-63f28e5bcc0b"
      },
      "execution_count": 7,
      "outputs": [
        {
          "output_type": "stream",
          "name": "stderr",
          "text": [
            "/usr/local/lib/python3.10/dist-packages/keras/src/backend/tensorflow/trainer.py:75: UserWarning: The model does not have any trainable weights.\n",
            "  warnings.warn(\"The model does not have any trainable weights.\")\n"
          ]
        },
        {
          "output_type": "stream",
          "name": "stdout",
          "text": [
            "1/10 [D loss: 0.6574, acc.: 81.25] [G loss: 0.6697]\n",
            "2/10 [D loss: 0.6679, acc.: 72.92] [G loss: 0.6730]\n",
            "3/10 [D loss: 0.6750, acc.: 69.38] [G loss: 0.6804]\n",
            "4/10 [D loss: 0.6789, acc.: 67.02] [G loss: 0.6820]\n",
            "5/10 [D loss: 0.6809, acc.: 66.22] [G loss: 0.6836]\n",
            "6/10 [D loss: 0.6836, acc.: 65.31] [G loss: 0.6871]\n",
            "7/10 [D loss: 0.6870, acc.: 63.72] [G loss: 0.6907]\n",
            "8/10 [D loss: 0.6907, acc.: 62.65] [G loss: 0.6941]\n",
            "9/10 [D loss: 0.6947, acc.: 61.21] [G loss: 0.6983]\n",
            "10/10 [D loss: 0.6980, acc.: 60.21] [G loss: 0.7009]\n",
            "\u001b[1m32/32\u001b[0m \u001b[32m━━━━━━━━━━━━━━━━━━━━\u001b[0m\u001b[37m\u001b[0m \u001b[1m0s\u001b[0m 5ms/step\n",
            "Generated data saved as generated_packets_epoch_10.csv\n"
          ]
        }
      ]
    },
    {
      "cell_type": "code",
      "source": [
        "# Specify the file path where the generated CSV file is saved\n",
        "file_path = 'generated_packets_epoch_10.csv'\n",
        "\n",
        "# Load the CSV file into a DataFrame\n",
        "df_generated = pd.read_csv(file_path)\n",
        "\n",
        "# Display the first few rows of the DataFrame to verify the content\n",
        "print(df_generated.head())"
      ],
      "metadata": {
        "colab": {
          "base_uri": "https://localhost:8080/"
        },
        "id": "FA6CDZY2Lxn-",
        "outputId": "4e52254a-aacb-4bc2-f9f9-b62e5a91d90f"
      },
      "execution_count": 8,
      "outputs": [
        {
          "output_type": "stream",
          "name": "stdout",
          "text": [
            "   Flow ID   Source IP   Source Port   Destination IP   Destination Port  \\\n",
            "0      NaN         NaN           NaN              NaN                NaN   \n",
            "1      NaN         NaN           NaN              NaN                NaN   \n",
            "2      NaN         NaN           NaN              NaN                NaN   \n",
            "3      NaN         NaN           NaN              NaN                NaN   \n",
            "4      NaN         NaN           NaN              NaN                NaN   \n",
            "\n",
            "    Protocol   Timestamp   Flow Duration   Total Fwd Packets  \\\n",
            "0        NaN         NaN      -2284358.0          -1883.2680   \n",
            "1        NaN         NaN     107822350.0            618.9486   \n",
            "2        NaN         NaN      79680780.0           1220.8859   \n",
            "3        NaN         NaN    -107257670.0            854.8530   \n",
            "4        NaN         NaN      54520700.0          -1014.1349   \n",
            "\n",
            "    Total Backward Packets  ...   min_seg_size_forward  Active Mean  \\\n",
            "0               -1055.9469  ...             -43.140430  -32289076.0   \n",
            "1               -1093.3494  ...             -28.288584  -96471570.0   \n",
            "2                1898.3335  ...              12.339626  -98813330.0   \n",
            "3               -1216.7172  ...              43.754770  -46084340.0   \n",
            "4                1465.9036  ...               3.294377    1657316.2   \n",
            "\n",
            "    Active Std   Active Max   Active Min    Idle Mean     Idle Std  \\\n",
            "0  -16602218.0  -15013707.0   35701760.0  -78708710.0   -389440.62   \n",
            "1  -25849378.0  -88632920.0   47390436.0   83311540.0  40011556.00   \n",
            "2   -9233243.0   93684010.0   80507440.0 -100242410.0  39612436.00   \n",
            "3   31039408.0   89139850.0  -15133420.0   25720660.0  46766664.00   \n",
            "4    2332058.0  -39743660.0   79439090.0  -88508080.0  40094356.00   \n",
            "\n",
            "      Idle Max     Idle Min   Label  \n",
            "0  110151710.0   46676520.0  BENIGN  \n",
            "1 -110170370.0 -111074030.0  BENIGN  \n",
            "2 -118523880.0 -110727630.0  BENIGN  \n",
            "3   56031956.0  108670536.0  BENIGN  \n",
            "4   57385716.0   63511884.0  BENIGN  \n",
            "\n",
            "[5 rows x 85 columns]\n"
          ]
        }
      ]
    },
    {
      "cell_type": "code",
      "source": [],
      "metadata": {
        "id": "-5xrFgisOxH-"
      },
      "execution_count": null,
      "outputs": []
    }
  ]
}